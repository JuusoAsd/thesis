{
 "cells": [
  {
   "cell_type": "code",
   "execution_count": 6,
   "metadata": {},
   "outputs": [],
   "source": [
    "import numpy as np"
   ]
  },
  {
   "cell_type": "code",
   "execution_count": 18,
   "metadata": {},
   "outputs": [
    {
     "data": {
      "text/plain": [
       "array([6, 9])"
      ]
     },
     "execution_count": 18,
     "metadata": {},
     "output_type": "execute_result"
    }
   ],
   "source": [
    "# ts, x, y\n",
    "arr = np.array([[1, 2, 3], [4, 5, 6], [7, 8, 9]])\n",
    "\n",
    "arr[0]\n",
    "arr[:,1]\n",
    "\n",
    "brr = np.array(arr[arr[:,0] > 3][:,1:].tolist())\n",
    "arr\n",
    "brr[:,1]"
   ]
  },
  {
   "cell_type": "code",
   "execution_count": 29,
   "metadata": {},
   "outputs": [
    {
     "data": {
      "text/plain": [
       "0"
      ]
     },
     "execution_count": 29,
     "metadata": {},
     "output_type": "execute_result"
    }
   ],
   "source": [
    "class OSIEstimator():\n",
    "    def __init__(\n",
    "        self,\n",
    "        lookback=1000 * 60 * 60 * 24,\n",
    "        update_interval=1000 * 60 * 60,\n",
    "    ):\n",
    "        self.lookback = lookback\n",
    "        self.update_interval = update_interval\n",
    "        self.buys = []\n",
    "        self.sells = []\n",
    "        self.previous_update = 0\n",
    "\n",
    "    def update(self, trades):\n",
    "        # trade is list of lists [[timestamp, price, amount, mid_price]]\n",
    "        for trade in trades:\n",
    "            ts, price, amount, mid_price = trade\n",
    "\n",
    "            # sides are determined by price relative to mid_price, based on what side take is on\n",
    "            if price < mid_price:\n",
    "                self.sells.append(np.array([ts, amount]))\n",
    "            elif price > mid_price:\n",
    "                self.buys.append(np.array([ts, amount]))\n",
    "\n",
    "    def calculate_values(self):\n",
    "        \"\"\"\n",
    "        Function for calculating OSI. Currently updates OSI every hour.\n",
    "        self.trade_bids/asks are two dimensional arrays formed like this [[timestamp, size]]\n",
    "        This function sorts the trades by size and takes the 90% quantile sized trades for OSI calculation.\n",
    "        \"\"\"\n",
    "\n",
    "        buy, sell = np.array(self.buys), np.array(self.sells)\n",
    "        buy_qty, sell_qty = buy[:, 1], sell[:, 1]\n",
    "        decile_buys = buy_qty[: (buy_qty < np.percentile(buy_qty, 90)).argmin()].sum()\n",
    "        decile_sells = sell_qty[\n",
    "            : (sell_qty < np.percentile(sell_qty, 90)).argmin()\n",
    "        ].sum()\n",
    "\n",
    "        osi = 100 * ((decile_buys - decile_sells) / (decile_buys + decile_sells))\n",
    "        self.osi = osi\n",
    "\n",
    "    def get_value(self, ts):\n",
    "        if ts >= self.previous_update + self.update_interval:\n",
    "            # prune trades that are too old\n",
    "            buy_arr = np.array(self.buys)\n",
    "            self.buys = buy_arr[buy_arr[:, 0] < (ts - self.lookback)].tolist()\n",
    "\n",
    "            sell_arr = np.array(self.sells)\n",
    "            self.sells = sell_arr[sell_arr[:, 0] < (ts - self.lookback)].tolist()\n",
    "\n",
    "            self.calculate_values()\n",
    "            self.previous_update = ts\n",
    "        return self.osi\n",
    "    \n",
    "osi = OSIEstimator()\n",
    "osi.update([[10, 10, 10, 0]])\n",
    "osi.update([[20, 20, 20, 0]])\n",
    "\n",
    "osi.update([[10, 10, 10, 40]])\n",
    "osi.update([[20, 20, 20, 40]])\n",
    "buy, sell = np.array(osi.buys), np.array(osi.sells)\n",
    "buy_qty, sell_qty = buy[:, 1], sell[:, 1]\n",
    "\n",
    "\n",
    "decile_buys = buy_qty[: (buy_qty < np.percentile(buy_qty, 90)).argmin()].sum()\n",
    "decile_sells = sell_qty[\n",
    "    : (sell_qty < np.percentile(sell_qty, 90)).argmin()\n",
    "].sum()\n",
    "\n"
   ]
  },
  {
   "cell_type": "code",
   "execution_count": 31,
   "metadata": {},
   "outputs": [],
   "source": [
    "import pandas as pd\n",
    "import logging\n",
    "import numpy as np\n",
    "from scipy.optimize import curve_fit\n",
    "import queue\n",
    "import pandas as pd\n",
    "import math\n"
   ]
  },
  {
   "cell_type": "code",
   "execution_count": 7,
   "metadata": {},
   "outputs": [
    {
     "data": {
      "text/plain": [
       "array([10, 11])"
      ]
     },
     "execution_count": 7,
     "metadata": {},
     "output_type": "execute_result"
    }
   ],
   "source": [
    "class VolatilityEstimator():\n",
    "    \"\"\"\n",
    "    lookback: how far back (in milliseconds) to look at trades, default: 1 day\n",
    "    return_aggregation: aggregation period for price returns (what is the time period between two price observations), default: 10 minutes\n",
    "    update_interval: how often to update the estimator (in milliseconds), default: 1 minute\n",
    "    \"\"\"\n",
    "\n",
    "    def __init__(\n",
    "        self,\n",
    "        lookback=(1000 * 60 * 60 * 24),\n",
    "        return_aggregation=(1000 * 60 * 10),\n",
    "        update_interval=(1000 * 60),\n",
    "    ):\n",
    "        self.lookback = lookback\n",
    "        self.update_interval = update_interval\n",
    "        self.return_aggregation = return_aggregation\n",
    "\n",
    "        self.previous_ts = 0\n",
    "\n",
    "        # self.prices = []\n",
    "        self.prices = []\n",
    "\n",
    "        self.volatility = 0\n",
    "        self.previous_update = 0\n",
    "\n",
    "    def update(self, new_price, ts):\n",
    "        if ts >= self.previous_ts + self.return_aggregation:\n",
    "            self.prices.append([ts, new_price])\n",
    "            self.previous_ts = ts\n",
    "\n",
    "    def calculate_volatility_real(self):\n",
    "        \"\"\"\n",
    "        Vol = std(returns)\n",
    "        Annualized vol = vol * sqrt(aggregation periods per year)\n",
    "            - aggregation period is in milliseconds\n",
    "        \"\"\"\n",
    "        a = np.array(self.price_queue.queue)\n",
    "        return_arr = np.diff(a) / a[:, 1:]\n",
    "        vol = np.std(return_arr)\n",
    "        self.volatility = vol * np.sqrt(\n",
    "            (1000 * 60 * 60 * 24 * 365) / self.return_aggregation\n",
    "        )\n",
    "\n",
    "    def calculate_values(self):\n",
    "        \"\"\"\n",
    "        Calculates price volatility instead of percentage volatility\n",
    "        \"\"\"\n",
    "        arr = np.array(self.prices)\n",
    "        self.volatility = np.sqrt(np.sum(np.square(np.diff(arr))) / arr.size)\n",
    "\n",
    "    def get_value(self, ts):\n",
    "        if ts >= self.previous_update + self.update_interval:\n",
    "            # prune old prices\n",
    "            prices = np.array(self.prices)\n",
    "            self.prices = prices[prices[:, 0] >= ts - self.lookback].tolist()\n",
    "            self.calculate_values()\n",
    "            self.previous_update = ts\n",
    "        return self.volatility\n",
    "    \n",
    "vol = VolatilityEstimator(update_interval=0, return_aggregation=0)\n",
    "vol.update(10, 100)\n",
    "vol.update(11, 200)\n",
    "np.array(vol.prices)[:,1]\n",
    "\n"
   ]
  },
  {
   "cell_type": "code",
   "execution_count": 45,
   "metadata": {},
   "outputs": [],
   "source": [
    "base = pd.read_csv(\"/home/juuso/Documents/gradu/parsed_data/aggregated/base_data.csv\")\n",
    "indicators = pd.read_csv(\"/home/juuso/Documents/gradu/parsed_data/aggregated/indicator_data.csv\")\n",
    "data = pd.merge(base, indicators, on=\"timestamp\", how='left').ffill().dropna()"
   ]
  },
  {
   "cell_type": "code",
   "execution_count": 79,
   "metadata": {},
   "outputs": [
    {
     "data": {
      "text/plain": [
       "161113"
      ]
     },
     "execution_count": 79,
     "metadata": {},
     "output_type": "execute_result"
    }
   ],
   "source": [
    "len(data.to_numpy())"
   ]
  },
  {
   "cell_type": "code",
   "execution_count": 93,
   "metadata": {},
   "outputs": [
    {
     "name": "stdout",
     "output_type": "stream",
     "text": [
      "(10,) (3,)\n",
      "[10 20 30]\n",
      "[10]\n"
     ]
    }
   ],
   "source": [
    "envs = 3\n",
    "\n",
    "current_step = np.array(range(3))\n",
    "second_step = np.array([1])\n",
    "\n",
    "\n",
    "\n",
    "current_step += 1\n",
    "current_step\n",
    "\n",
    "values = np.array(range(10)) * 10\n",
    "print(values.shape, current_step.shape)\n",
    "print(values[current_step])\n",
    "print(values[second_step])"
   ]
  },
  {
   "cell_type": "code",
   "execution_count": 108,
   "metadata": {},
   "outputs": [
    {
     "name": "stdout",
     "output_type": "stream",
     "text": [
      "(1, 3)\n"
     ]
    },
    {
     "data": {
      "text/plain": [
       "(3, 3)"
      ]
     },
     "execution_count": 108,
     "metadata": {},
     "output_type": "execute_result"
    }
   ],
   "source": [
    "a = np.array([1]).reshape(-1,1).T\n",
    "b = np.array([2]).reshape(-1,1).T\n",
    "c = np.array([3]).reshape(-1,1).T\n",
    "\n",
    "print(np.concatenate([a,b,c]).T.shape)\n",
    "\n",
    "a = np.array([1,2,3]).reshape(-1,1).T\n",
    "b = np.array([4,5,6]).reshape(-1,1).T\n",
    "c = np.array([7,8,9]).reshape(-1,1).T\n",
    "\n",
    "np.concatenate([a,b,c]).T.shape"
   ]
  },
  {
   "cell_type": "code",
   "execution_count": 130,
   "metadata": {},
   "outputs": [
    {
     "data": {
      "text/plain": [
       "array([1, 2, 3, 4])"
      ]
     },
     "execution_count": 130,
     "metadata": {},
     "output_type": "execute_result"
    }
   ],
   "source": [
    "a = np.array([[1, 2], [3, 4]]).reshape(-1,1).T\n",
    "a.reshape(4,)"
   ]
  },
  {
   "cell_type": "code",
   "execution_count": 161,
   "metadata": {},
   "outputs": [
    {
     "data": {
      "text/plain": [
       "(array([ 0. , 17.5, 35. , 52.5, 70. ]),\n",
       " array([ 30. ,  47.5,  65. ,  82.5, 100. ]))"
      ]
     },
     "execution_count": 161,
     "metadata": {},
     "output_type": "execute_result"
    }
   ],
   "source": [
    "data = 100\n",
    "envs = 5\n",
    "data_portion=0.3\n",
    "\n",
    "if data_portion * envs < 1:\n",
    "    start = np.array(range(envs)) * data_portion\n",
    "    end = start + data_portion\n",
    "    start_val = start * data\n",
    "    end_val = end * data\n",
    "    \n",
    "else:\n",
    "    offset = (1-data_portion) / (envs-1)\n",
    "    start = np.array(range(envs)) * offset\n",
    "    end = start + data_portion\n",
    "    start_val = start * data\n",
    "    end_val = end * data\n",
    "    \n",
    "    \n",
    "start_val, end_val\n"
   ]
  },
  {
   "cell_type": "code",
   "execution_count": 5,
   "metadata": {},
   "outputs": [
    {
     "data": {
      "text/plain": [
       "array([4, 5, 6])"
      ]
     },
     "execution_count": 5,
     "metadata": {},
     "output_type": "execute_result"
    }
   ],
   "source": [
    "# check if array has only one true value\n",
    "a = np.array([True, False, False])\n",
    "np"
   ]
  }
 ],
 "metadata": {
  "kernelspec": {
   "display_name": "venv",
   "language": "python",
   "name": "python3"
  },
  "language_info": {
   "codemirror_mode": {
    "name": "ipython",
    "version": 3
   },
   "file_extension": ".py",
   "mimetype": "text/x-python",
   "name": "python",
   "nbconvert_exporter": "python",
   "pygments_lexer": "ipython3",
   "version": "3.9.12"
  },
  "orig_nbformat": 4,
  "vscode": {
   "interpreter": {
    "hash": "8d3769ca92a5dfd2fce269debdca3b3007f85e1c1f688b26c3f60355833e5c7a"
   }
  }
 },
 "nbformat": 4,
 "nbformat_minor": 2
}
