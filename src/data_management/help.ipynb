{
 "cells": [
  {
   "cell_type": "code",
   "execution_count": 1,
   "metadata": {},
   "outputs": [],
   "source": [
    "import os\n",
    "import numpy as np\n",
    "import pandas as pd\n",
    "from dotenv import load_dotenv\n",
    "load_dotenv()\n",
    "import plotly_express as px\n",
    "import os\n",
    "from typing import Union\n",
    "from datetime import datetime, timedelta\n",
    "import pandas as pd\n",
    "\n",
    "\n",
    "from dotenv import load_dotenv\n",
    "import matplotlib.pyplot as plt\n",
    "\n",
    "\n",
    "def get_data_by_dates(start_date: Union[datetime, str], end_date=None, days=None):\n",
    "    \"\"\"\n",
    "    Returns a single dataframe with all the data from the start date to the end date / for duration in days.\n",
    "    \"\"\"\n",
    "    data_path = os.getenv(\"DATA_PATH\")\n",
    "\n",
    "    start_date = (\n",
    "        datetime.strptime(start_date, \"%Y_%m_%d\")\n",
    "        if isinstance(start_date, str)\n",
    "        else start_date\n",
    "    )\n",
    "    if end_date is None:\n",
    "        if days is None:\n",
    "            try:\n",
    "                return pd.read_csv(\n",
    "                    os.path.join(data_path, start_date.strftime(\"%Y_%m_%d\"), \"data.csv\")\n",
    "                )\n",
    "            except Exception as e:\n",
    "                raise Exception(f\"Error reading file: {e}\")\n",
    "        end_date = start_date + timedelta(days=days)\n",
    "    else:\n",
    "        end_date = (\n",
    "            datetime.strptime(end_date, \"%Y_%m_%d\")\n",
    "            if isinstance(end_date, str)\n",
    "            else end_date\n",
    "        )\n",
    "\n",
    "    assert start_date < end_date, \"start_date must be before end_date\"\n",
    "\n",
    "    # get all files that match the dates\n",
    "    files = []\n",
    "    for folder in os.listdir(data_path):\n",
    "        if os.path.isdir(os.path.join(data_path, folder)):\n",
    "            folder_date = datetime.strptime(folder, \"%Y_%m_%d\")\n",
    "            if start_date <= folder_date <= end_date:\n",
    "                files.append(os.path.join(data_path, folder, \"data.csv\"))\n",
    "\n",
    "    # compare lenght of files with the number of days\n",
    "    if len(files) != (end_date - start_date).days + 1:\n",
    "        print(\n",
    "            f\"Number of files({len(files)}) does not match the number of days given({(end_date - start_date).days + 1})\"\n",
    "        )\n",
    "    try:\n",
    "        df = pd.read_csv(files[0])\n",
    "        for file in files[1:]:\n",
    "            df = pd.concat([df, pd.read_csv(file)])\n",
    "        df.sort_values(by=\"timestamp\", inplace=True)\n",
    "        return df\n",
    "    except Exception as e:\n",
    "        raise Exception(f\"Error reading files: {e}\")\n",
    "        return None"
   ]
  },
  {
   "cell_type": "code",
   "execution_count": 80,
   "metadata": {},
   "outputs": [
    {
     "data": {
      "text/plain": [
       "{'n_steps': 16.0,\n",
       " 'batch_size': 4096.0,\n",
       " 'gae_lambda': 0.92,\n",
       " 'gamma': 0.995,\n",
       " 'learning_rate': 5.791490307962484e-05,\n",
       " 'max_grad_norm': 0.9,\n",
       " 'vf_coef': 0.0873730954927472,\n",
       " 'ent_coef': 0.4,\n",
       " 'clip_range': 0.1,\n",
       " 'clip_range_vf': 0.1,\n",
       " 'n_epochs': 10.0,\n",
       " 'normalize_advantage': 0.0,\n",
       " 'sde_sample_freq': 8.0}"
      ]
     },
     "execution_count": 80,
     "metadata": {},
     "output_type": "execute_result"
    }
   ],
   "source": [
    "df = pd.read_csv(\"/Users/juusoahlroos/Documents/own/gradu/parsed_data/results/tune_multiple_val_envs.csv\")\n",
    "reward_col = [\"trial_reward\"]\n",
    "interesting_cols = ['max_inventory','sharpe'] \n",
    "parameter_cols = ['n_steps', 'batch_size', 'gae_lambda', 'gamma', 'learning_rate', 'max_grad_norm', 'vf_coef', 'ent_coef', 'clip_range', 'clip_range_vf', 'n_epochs', 'normalize_advantage', 'sde_sample_freq']\n",
    "\n",
    "\n",
    "grouped = df.groupby('trial_group_id')\n",
    "reward = grouped[reward_col].agg(['mean', 'var'])\n",
    "reward.columns = ['_'.join(col) if isinstance(col, tuple) else col for col in reward.columns]\n",
    "# # Calculate mean for parameter columns\n",
    "parameter_stats = grouped[parameter_cols].mean()\n",
    "max_test = grouped[parameter_cols].max()\n",
    "min_test = grouped[parameter_cols].min()\n",
    "\n",
    "interesting_stats = grouped[interesting_cols].mean()\n",
    "\n",
    "\n",
    "\n",
    "max_test.values\n",
    "\n",
    "parameter_stats\n",
    "\n",
    "\n",
    "\n",
    "# # # Combine the two resulting DataFrames (interesting_stats and parameter_stats)\n",
    "result = pd.concat([reward,interesting_stats, parameter_stats], axis=1)\n",
    "# # # Reset the index\n",
    "result.reset_index(inplace=True)\n",
    "result['combined_group_score'] = result['trial_reward_mean'] / result['trial_reward_var']\n",
    "result.sort_values('combined_group_score', ascending=False)[['combined_group_score'] + list(reward.columns)+interesting_cols + list(parameter_cols)].head(10)\n",
    "result.sort_values('combined_group_score', ascending=False).iloc[1][parameter_cols].to_dict()"
   ]
  },
  {
   "cell_type": "code",
   "execution_count": 71,
   "metadata": {},
   "outputs": [
    {
     "data": {
      "text/plain": [
       "495    0.000000\n",
       "199    0.000000\n",
       "498    0.000000\n",
       "204    0.000000\n",
       "497    0.000000\n",
       "         ...   \n",
       "301    2.563640\n",
       "816    2.682756\n",
       "161    2.715703\n",
       "837    2.795789\n",
       "911    5.003991\n",
       "Name: trial_reward, Length: 920, dtype: float64"
      ]
     },
     "execution_count": 71,
     "metadata": {},
     "output_type": "execute_result"
    }
   ],
   "source": [
    "df = pd.read_csv(\"/Users/juusoahlroos/Documents/own/gradu/parsed_data/results/tune_multiple_val_envs_csv.csv\")\n",
    "\n",
    "reward_col = [\"trial_reward\"]\n",
    "interesting_cols = ['max_inventory','sharpe'] \n",
    "parameter_cols = ['n_steps', 'batch_size', 'gae_lambda', 'gamma', 'learning_rate', 'max_grad_norm', 'vf_coef', 'ent_coef', 'clip_range', 'clip_range_vf', 'n_epochs', 'normalize_advantage', 'sde_sample_freq']\n",
    "\n",
    "\n",
    "df['trial_reward'].sort_values()"
   ]
  },
  {
   "cell_type": "code",
   "execution_count": 92,
   "metadata": {},
   "outputs": [
    {
     "data": {
      "text/html": [
       "<div>\n",
       "<style scoped>\n",
       "    .dataframe tbody tr th:only-of-type {\n",
       "        vertical-align: middle;\n",
       "    }\n",
       "\n",
       "    .dataframe tbody tr th {\n",
       "        vertical-align: top;\n",
       "    }\n",
       "\n",
       "    .dataframe thead th {\n",
       "        text-align: right;\n",
       "    }\n",
       "</style>\n",
       "<table border=\"1\" class=\"dataframe\">\n",
       "  <thead>\n",
       "    <tr style=\"text-align: right;\">\n",
       "      <th></th>\n",
       "      <th>timestamp</th>\n",
       "      <th>best_bid</th>\n",
       "      <th>best_ask</th>\n",
       "      <th>mid_price</th>\n",
       "      <th>low_price</th>\n",
       "      <th>high_price</th>\n",
       "      <th>intensity</th>\n",
       "      <th>volatility</th>\n",
       "      <th>osi</th>\n",
       "    </tr>\n",
       "  </thead>\n",
       "  <tbody>\n",
       "    <tr>\n",
       "      <th>0</th>\n",
       "      <td>1641859200044</td>\n",
       "      <td>1.1224</td>\n",
       "      <td>1.1148</td>\n",
       "      <td>1.11860</td>\n",
       "      <td>1.1224</td>\n",
       "      <td>1.1225</td>\n",
       "      <td>6878.850515</td>\n",
       "      <td>0.001900</td>\n",
       "      <td>27.23</td>\n",
       "    </tr>\n",
       "    <tr>\n",
       "      <th>1</th>\n",
       "      <td>1641859201228</td>\n",
       "      <td>1.1225</td>\n",
       "      <td>1.1148</td>\n",
       "      <td>1.11865</td>\n",
       "      <td>1.1224</td>\n",
       "      <td>1.1225</td>\n",
       "      <td>6878.850515</td>\n",
       "      <td>0.001900</td>\n",
       "      <td>27.23</td>\n",
       "    </tr>\n",
       "    <tr>\n",
       "      <th>2</th>\n",
       "      <td>1641859202379</td>\n",
       "      <td>1.1225</td>\n",
       "      <td>1.1148</td>\n",
       "      <td>1.11865</td>\n",
       "      <td>0.0000</td>\n",
       "      <td>0.0000</td>\n",
       "      <td>6878.850515</td>\n",
       "      <td>0.001900</td>\n",
       "      <td>27.23</td>\n",
       "    </tr>\n",
       "    <tr>\n",
       "      <th>3</th>\n",
       "      <td>1641859203387</td>\n",
       "      <td>1.1226</td>\n",
       "      <td>1.1148</td>\n",
       "      <td>1.11870</td>\n",
       "      <td>1.1223</td>\n",
       "      <td>1.1227</td>\n",
       "      <td>6878.850515</td>\n",
       "      <td>0.001900</td>\n",
       "      <td>27.23</td>\n",
       "    </tr>\n",
       "    <tr>\n",
       "      <th>4</th>\n",
       "      <td>1641859204510</td>\n",
       "      <td>1.1226</td>\n",
       "      <td>1.1148</td>\n",
       "      <td>1.11870</td>\n",
       "      <td>1.1226</td>\n",
       "      <td>1.1229</td>\n",
       "      <td>6878.850515</td>\n",
       "      <td>0.001900</td>\n",
       "      <td>27.23</td>\n",
       "    </tr>\n",
       "    <tr>\n",
       "      <th>...</th>\n",
       "      <td>...</td>\n",
       "      <td>...</td>\n",
       "      <td>...</td>\n",
       "      <td>...</td>\n",
       "      <td>...</td>\n",
       "      <td>...</td>\n",
       "      <td>...</td>\n",
       "      <td>...</td>\n",
       "      <td>...</td>\n",
       "    </tr>\n",
       "    <tr>\n",
       "      <th>82507</th>\n",
       "      <td>1641945595134</td>\n",
       "      <td>1.1861</td>\n",
       "      <td>1.1166</td>\n",
       "      <td>1.15135</td>\n",
       "      <td>1.1862</td>\n",
       "      <td>1.1862</td>\n",
       "      <td>1.666894</td>\n",
       "      <td>0.000697</td>\n",
       "      <td>0.00</td>\n",
       "    </tr>\n",
       "    <tr>\n",
       "      <th>82508</th>\n",
       "      <td>1641945596163</td>\n",
       "      <td>1.1865</td>\n",
       "      <td>1.1166</td>\n",
       "      <td>1.15155</td>\n",
       "      <td>1.1862</td>\n",
       "      <td>1.1866</td>\n",
       "      <td>1.666894</td>\n",
       "      <td>0.000697</td>\n",
       "      <td>0.00</td>\n",
       "    </tr>\n",
       "    <tr>\n",
       "      <th>82509</th>\n",
       "      <td>1641945597188</td>\n",
       "      <td>1.1865</td>\n",
       "      <td>1.1166</td>\n",
       "      <td>1.15155</td>\n",
       "      <td>1.1866</td>\n",
       "      <td>1.1866</td>\n",
       "      <td>1.666894</td>\n",
       "      <td>0.000697</td>\n",
       "      <td>0.00</td>\n",
       "    </tr>\n",
       "    <tr>\n",
       "      <th>82510</th>\n",
       "      <td>1641945598263</td>\n",
       "      <td>1.1865</td>\n",
       "      <td>1.1166</td>\n",
       "      <td>1.15155</td>\n",
       "      <td>1.1865</td>\n",
       "      <td>1.1866</td>\n",
       "      <td>1.666894</td>\n",
       "      <td>0.000697</td>\n",
       "      <td>0.00</td>\n",
       "    </tr>\n",
       "    <tr>\n",
       "      <th>82511</th>\n",
       "      <td>1641945599336</td>\n",
       "      <td>1.1865</td>\n",
       "      <td>1.1166</td>\n",
       "      <td>1.15155</td>\n",
       "      <td>1.1866</td>\n",
       "      <td>1.1866</td>\n",
       "      <td>1.666894</td>\n",
       "      <td>0.000697</td>\n",
       "      <td>0.00</td>\n",
       "    </tr>\n",
       "  </tbody>\n",
       "</table>\n",
       "<p>82512 rows × 9 columns</p>\n",
       "</div>"
      ],
      "text/plain": [
       "           timestamp  best_bid  best_ask  mid_price  low_price  high_price   \n",
       "0      1641859200044    1.1224    1.1148    1.11860     1.1224      1.1225  \\\n",
       "1      1641859201228    1.1225    1.1148    1.11865     1.1224      1.1225   \n",
       "2      1641859202379    1.1225    1.1148    1.11865     0.0000      0.0000   \n",
       "3      1641859203387    1.1226    1.1148    1.11870     1.1223      1.1227   \n",
       "4      1641859204510    1.1226    1.1148    1.11870     1.1226      1.1229   \n",
       "...              ...       ...       ...        ...        ...         ...   \n",
       "82507  1641945595134    1.1861    1.1166    1.15135     1.1862      1.1862   \n",
       "82508  1641945596163    1.1865    1.1166    1.15155     1.1862      1.1866   \n",
       "82509  1641945597188    1.1865    1.1166    1.15155     1.1866      1.1866   \n",
       "82510  1641945598263    1.1865    1.1166    1.15155     1.1865      1.1866   \n",
       "82511  1641945599336    1.1865    1.1166    1.15155     1.1866      1.1866   \n",
       "\n",
       "         intensity  volatility    osi  \n",
       "0      6878.850515    0.001900  27.23  \n",
       "1      6878.850515    0.001900  27.23  \n",
       "2      6878.850515    0.001900  27.23  \n",
       "3      6878.850515    0.001900  27.23  \n",
       "4      6878.850515    0.001900  27.23  \n",
       "...            ...         ...    ...  \n",
       "82507     1.666894    0.000697   0.00  \n",
       "82508     1.666894    0.000697   0.00  \n",
       "82509     1.666894    0.000697   0.00  \n",
       "82510     1.666894    0.000697   0.00  \n",
       "82511     1.666894    0.000697   0.00  \n",
       "\n",
       "[82512 rows x 9 columns]"
      ]
     },
     "execution_count": 92,
     "metadata": {},
     "output_type": "execute_result"
    }
   ],
   "source": [
    "df = pd.read_csv(\"/Users/juusoahlroos/Documents/own/gradu/parsed_data/results/zero_inv_run.csv\")\n",
    "df.value.diff()\n",
    "\n",
    "df = get_data_by_dates(\"2022_01_11\")\n",
    "df"
   ]
  },
  {
   "cell_type": "code",
   "execution_count": 18,
   "metadata": {},
   "outputs": [
    {
     "name": "stdout",
     "output_type": "stream",
     "text": [
      "2022-01-25 00:00:00: 83303, 2022-01-25 02:00:00.262000 - 2022-01-26 01:59:59.506000 - -0.00011\n",
      "2022-01-26 00:00:00: 83362, 2022-01-26 02:00:00.536000 - 2022-01-27 01:59:59.729000 - -0.000119\n",
      "2022-01-27 00:00:00: 83191, 2022-01-27 02:00:00.944000 - 2022-01-28 01:59:59.615000 - -0.000113\n",
      "2022-01-28 00:00:00: 82775, 2022-01-28 02:00:00.619000 - 2022-01-29 01:59:59.032000 - -0.000108\n",
      "2022-01-29 00:00:00: 82226, 2022-01-29 02:00:00.133000 - 2022-01-30 01:59:59.046000 - -0.000104\n",
      "2022-01-30 00:00:00: 82088, 2022-01-30 02:00:00.072000 - 2022-01-31 01:59:59.631000 - -0.000103\n",
      "2022-01-31 00:00:00: 82278, 2022-01-31 02:00:00.784000 - 2022-02-01 01:59:59.401000 - -0.000103\n",
      "2022-02-01 00:00:00: 82314, 2022-02-01 02:00:00.500000 - 2022-02-02 01:59:59.687000 - -0.000101\n",
      "2022-02-02 00:00:00: 82452, 2022-02-02 02:00:00.729000 - 2022-02-03 01:59:58.998000 - 0.002535\n",
      "2022-02-03 00:00:00: 82395, 2022-02-03 02:00:00.011000 - 2022-02-04 01:59:59.539000 - -0.000103\n"
     ]
    },
    {
     "ename": "Exception",
     "evalue": "Error reading file: [Errno 2] No such file or directory: '/Volumes/ssd/gradu_data/parsed/2022_02_04/data.csv'",
     "output_type": "error",
     "traceback": [
      "\u001b[0;31m---------------------------------------------------------------------------\u001b[0m",
      "\u001b[0;31mFileNotFoundError\u001b[0m                         Traceback (most recent call last)",
      "Cell \u001b[0;32mIn[1], line 31\u001b[0m, in \u001b[0;36mget_data_by_dates\u001b[0;34m(start_date, end_date, days)\u001b[0m\n\u001b[1;32m     30\u001b[0m \u001b[39mtry\u001b[39;00m:\n\u001b[0;32m---> 31\u001b[0m     \u001b[39mreturn\u001b[39;00m pd\u001b[39m.\u001b[39;49mread_csv(\n\u001b[1;32m     32\u001b[0m         os\u001b[39m.\u001b[39;49mpath\u001b[39m.\u001b[39;49mjoin(data_path, start_date\u001b[39m.\u001b[39;49mstrftime(\u001b[39m\"\u001b[39;49m\u001b[39m%\u001b[39;49m\u001b[39mY_\u001b[39;49m\u001b[39m%\u001b[39;49m\u001b[39mm_\u001b[39;49m\u001b[39m%d\u001b[39;49;00m\u001b[39m\"\u001b[39;49m), \u001b[39m\"\u001b[39;49m\u001b[39mdata.csv\u001b[39;49m\u001b[39m\"\u001b[39;49m)\n\u001b[1;32m     33\u001b[0m     )\n\u001b[1;32m     34\u001b[0m \u001b[39mexcept\u001b[39;00m \u001b[39mException\u001b[39;00m \u001b[39mas\u001b[39;00m e:\n",
      "File \u001b[0;32m~/Documents/own/gradu/venv/lib/python3.9/site-packages/pandas/io/parsers/readers.py:912\u001b[0m, in \u001b[0;36mread_csv\u001b[0;34m(filepath_or_buffer, sep, delimiter, header, names, index_col, usecols, dtype, engine, converters, true_values, false_values, skipinitialspace, skiprows, skipfooter, nrows, na_values, keep_default_na, na_filter, verbose, skip_blank_lines, parse_dates, infer_datetime_format, keep_date_col, date_parser, date_format, dayfirst, cache_dates, iterator, chunksize, compression, thousands, decimal, lineterminator, quotechar, quoting, doublequote, escapechar, comment, encoding, encoding_errors, dialect, on_bad_lines, delim_whitespace, low_memory, memory_map, float_precision, storage_options, dtype_backend)\u001b[0m\n\u001b[1;32m    910\u001b[0m kwds\u001b[39m.\u001b[39mupdate(kwds_defaults)\n\u001b[0;32m--> 912\u001b[0m \u001b[39mreturn\u001b[39;00m _read(filepath_or_buffer, kwds)\n",
      "File \u001b[0;32m~/Documents/own/gradu/venv/lib/python3.9/site-packages/pandas/io/parsers/readers.py:577\u001b[0m, in \u001b[0;36m_read\u001b[0;34m(filepath_or_buffer, kwds)\u001b[0m\n\u001b[1;32m    576\u001b[0m \u001b[39m# Create the parser.\u001b[39;00m\n\u001b[0;32m--> 577\u001b[0m parser \u001b[39m=\u001b[39m TextFileReader(filepath_or_buffer, \u001b[39m*\u001b[39;49m\u001b[39m*\u001b[39;49mkwds)\n\u001b[1;32m    579\u001b[0m \u001b[39mif\u001b[39;00m chunksize \u001b[39mor\u001b[39;00m iterator:\n",
      "File \u001b[0;32m~/Documents/own/gradu/venv/lib/python3.9/site-packages/pandas/io/parsers/readers.py:1407\u001b[0m, in \u001b[0;36mTextFileReader.__init__\u001b[0;34m(self, f, engine, **kwds)\u001b[0m\n\u001b[1;32m   1406\u001b[0m \u001b[39mself\u001b[39m\u001b[39m.\u001b[39mhandles: IOHandles \u001b[39m|\u001b[39m \u001b[39mNone\u001b[39;00m \u001b[39m=\u001b[39m \u001b[39mNone\u001b[39;00m\n\u001b[0;32m-> 1407\u001b[0m \u001b[39mself\u001b[39m\u001b[39m.\u001b[39m_engine \u001b[39m=\u001b[39m \u001b[39mself\u001b[39;49m\u001b[39m.\u001b[39;49m_make_engine(f, \u001b[39mself\u001b[39;49m\u001b[39m.\u001b[39;49mengine)\n",
      "File \u001b[0;32m~/Documents/own/gradu/venv/lib/python3.9/site-packages/pandas/io/parsers/readers.py:1661\u001b[0m, in \u001b[0;36mTextFileReader._make_engine\u001b[0;34m(self, f, engine)\u001b[0m\n\u001b[1;32m   1660\u001b[0m         mode \u001b[39m+\u001b[39m\u001b[39m=\u001b[39m \u001b[39m\"\u001b[39m\u001b[39mb\u001b[39m\u001b[39m\"\u001b[39m\n\u001b[0;32m-> 1661\u001b[0m \u001b[39mself\u001b[39m\u001b[39m.\u001b[39mhandles \u001b[39m=\u001b[39m get_handle(\n\u001b[1;32m   1662\u001b[0m     f,\n\u001b[1;32m   1663\u001b[0m     mode,\n\u001b[1;32m   1664\u001b[0m     encoding\u001b[39m=\u001b[39;49m\u001b[39mself\u001b[39;49m\u001b[39m.\u001b[39;49moptions\u001b[39m.\u001b[39;49mget(\u001b[39m\"\u001b[39;49m\u001b[39mencoding\u001b[39;49m\u001b[39m\"\u001b[39;49m, \u001b[39mNone\u001b[39;49;00m),\n\u001b[1;32m   1665\u001b[0m     compression\u001b[39m=\u001b[39;49m\u001b[39mself\u001b[39;49m\u001b[39m.\u001b[39;49moptions\u001b[39m.\u001b[39;49mget(\u001b[39m\"\u001b[39;49m\u001b[39mcompression\u001b[39;49m\u001b[39m\"\u001b[39;49m, \u001b[39mNone\u001b[39;49;00m),\n\u001b[1;32m   1666\u001b[0m     memory_map\u001b[39m=\u001b[39;49m\u001b[39mself\u001b[39;49m\u001b[39m.\u001b[39;49moptions\u001b[39m.\u001b[39;49mget(\u001b[39m\"\u001b[39;49m\u001b[39mmemory_map\u001b[39;49m\u001b[39m\"\u001b[39;49m, \u001b[39mFalse\u001b[39;49;00m),\n\u001b[1;32m   1667\u001b[0m     is_text\u001b[39m=\u001b[39;49mis_text,\n\u001b[1;32m   1668\u001b[0m     errors\u001b[39m=\u001b[39;49m\u001b[39mself\u001b[39;49m\u001b[39m.\u001b[39;49moptions\u001b[39m.\u001b[39;49mget(\u001b[39m\"\u001b[39;49m\u001b[39mencoding_errors\u001b[39;49m\u001b[39m\"\u001b[39;49m, \u001b[39m\"\u001b[39;49m\u001b[39mstrict\u001b[39;49m\u001b[39m\"\u001b[39;49m),\n\u001b[1;32m   1669\u001b[0m     storage_options\u001b[39m=\u001b[39;49m\u001b[39mself\u001b[39;49m\u001b[39m.\u001b[39;49moptions\u001b[39m.\u001b[39;49mget(\u001b[39m\"\u001b[39;49m\u001b[39mstorage_options\u001b[39;49m\u001b[39m\"\u001b[39;49m, \u001b[39mNone\u001b[39;49;00m),\n\u001b[1;32m   1670\u001b[0m )\n\u001b[1;32m   1671\u001b[0m \u001b[39massert\u001b[39;00m \u001b[39mself\u001b[39m\u001b[39m.\u001b[39mhandles \u001b[39mis\u001b[39;00m \u001b[39mnot\u001b[39;00m \u001b[39mNone\u001b[39;00m\n",
      "File \u001b[0;32m~/Documents/own/gradu/venv/lib/python3.9/site-packages/pandas/io/common.py:859\u001b[0m, in \u001b[0;36mget_handle\u001b[0;34m(path_or_buf, mode, encoding, compression, memory_map, is_text, errors, storage_options)\u001b[0m\n\u001b[1;32m    857\u001b[0m \u001b[39mif\u001b[39;00m ioargs\u001b[39m.\u001b[39mencoding \u001b[39mand\u001b[39;00m \u001b[39m\"\u001b[39m\u001b[39mb\u001b[39m\u001b[39m\"\u001b[39m \u001b[39mnot\u001b[39;00m \u001b[39min\u001b[39;00m ioargs\u001b[39m.\u001b[39mmode:\n\u001b[1;32m    858\u001b[0m     \u001b[39m# Encoding\u001b[39;00m\n\u001b[0;32m--> 859\u001b[0m     handle \u001b[39m=\u001b[39m \u001b[39mopen\u001b[39;49m(\n\u001b[1;32m    860\u001b[0m         handle,\n\u001b[1;32m    861\u001b[0m         ioargs\u001b[39m.\u001b[39;49mmode,\n\u001b[1;32m    862\u001b[0m         encoding\u001b[39m=\u001b[39;49mioargs\u001b[39m.\u001b[39;49mencoding,\n\u001b[1;32m    863\u001b[0m         errors\u001b[39m=\u001b[39;49merrors,\n\u001b[1;32m    864\u001b[0m         newline\u001b[39m=\u001b[39;49m\u001b[39m\"\u001b[39;49m\u001b[39m\"\u001b[39;49m,\n\u001b[1;32m    865\u001b[0m     )\n\u001b[1;32m    866\u001b[0m \u001b[39melse\u001b[39;00m:\n\u001b[1;32m    867\u001b[0m     \u001b[39m# Binary mode\u001b[39;00m\n",
      "\u001b[0;31mFileNotFoundError\u001b[0m: [Errno 2] No such file or directory: '/Volumes/ssd/gradu_data/parsed/2022_02_04/data.csv'",
      "\nDuring handling of the above exception, another exception occurred:\n",
      "\u001b[0;31mException\u001b[0m                                 Traceback (most recent call last)",
      "Cell \u001b[0;32mIn[18], line 3\u001b[0m\n\u001b[1;32m      1\u001b[0m start_date \u001b[39m=\u001b[39m datetime\u001b[39m.\u001b[39mstrptime(\u001b[39m\"\u001b[39m\u001b[39m2022_01_25\u001b[39m\u001b[39m\"\u001b[39m, \u001b[39m\"\u001b[39m\u001b[39m%\u001b[39m\u001b[39mY_\u001b[39m\u001b[39m%\u001b[39m\u001b[39mm_\u001b[39m\u001b[39m%d\u001b[39;00m\u001b[39m\"\u001b[39m)\n\u001b[1;32m      2\u001b[0m \u001b[39mfor\u001b[39;00m i \u001b[39min\u001b[39;00m \u001b[39mrange\u001b[39m(\u001b[39m100\u001b[39m):\n\u001b[0;32m----> 3\u001b[0m     df \u001b[39m=\u001b[39m get_data_by_dates(start_date)\n\u001b[1;32m      4\u001b[0m     ts \u001b[39m=\u001b[39m df\u001b[39m.\u001b[39mtimestamp\u001b[39m.\u001b[39miloc[\u001b[39m0\u001b[39m] \u001b[39m/\u001b[39m \u001b[39m1000\u001b[39m\n\u001b[1;32m      5\u001b[0m     last_ts \u001b[39m=\u001b[39m df\u001b[39m.\u001b[39mtimestamp\u001b[39m.\u001b[39miloc[\u001b[39m-\u001b[39m\u001b[39m1\u001b[39m] \u001b[39m/\u001b[39m \u001b[39m1000\u001b[39m\n",
      "Cell \u001b[0;32mIn[1], line 35\u001b[0m, in \u001b[0;36mget_data_by_dates\u001b[0;34m(start_date, end_date, days)\u001b[0m\n\u001b[1;32m     31\u001b[0m             \u001b[39mreturn\u001b[39;00m pd\u001b[39m.\u001b[39mread_csv(\n\u001b[1;32m     32\u001b[0m                 os\u001b[39m.\u001b[39mpath\u001b[39m.\u001b[39mjoin(data_path, start_date\u001b[39m.\u001b[39mstrftime(\u001b[39m\"\u001b[39m\u001b[39m%\u001b[39m\u001b[39mY_\u001b[39m\u001b[39m%\u001b[39m\u001b[39mm_\u001b[39m\u001b[39m%d\u001b[39;00m\u001b[39m\"\u001b[39m), \u001b[39m\"\u001b[39m\u001b[39mdata.csv\u001b[39m\u001b[39m\"\u001b[39m)\n\u001b[1;32m     33\u001b[0m             )\n\u001b[1;32m     34\u001b[0m         \u001b[39mexcept\u001b[39;00m \u001b[39mException\u001b[39;00m \u001b[39mas\u001b[39;00m e:\n\u001b[0;32m---> 35\u001b[0m             \u001b[39mraise\u001b[39;00m \u001b[39mException\u001b[39;00m(\u001b[39mf\u001b[39m\u001b[39m\"\u001b[39m\u001b[39mError reading file: \u001b[39m\u001b[39m{\u001b[39;00me\u001b[39m}\u001b[39;00m\u001b[39m\"\u001b[39m)\n\u001b[1;32m     36\u001b[0m     end_date \u001b[39m=\u001b[39m start_date \u001b[39m+\u001b[39m timedelta(days\u001b[39m=\u001b[39mdays)\n\u001b[1;32m     37\u001b[0m \u001b[39melse\u001b[39;00m:\n",
      "\u001b[0;31mException\u001b[0m: Error reading file: [Errno 2] No such file or directory: '/Volumes/ssd/gradu_data/parsed/2022_02_04/data.csv'"
     ]
    }
   ],
   "source": [
    "\n",
    "start_date = datetime.strptime(\"2022_01_25\", \"%Y_%m_%d\")\n",
    "for i in range(100):\n",
    "    df = get_data_by_dates(start_date)\n",
    "    ts = df.timestamp.iloc[0] / 1000\n",
    "    last_ts = df.timestamp.iloc[-1] / 1000\n",
    "    ts_to_dt = datetime.fromtimestamp(ts) \n",
    "    last_ts_to_dt = datetime.fromtimestamp(last_ts)\n",
    "    to_plot =  df.best_bid - df.best_ask\n",
    "    print(f\"{start_date}: {len(df)}, {ts_to_dt} - {last_ts_to_dt} - {round(to_plot.mean(),6)}\")\n",
    "    # to_plot =  df['high_price']\n",
    "    # # to_plot =  df.intensity\n",
    "    # print(f\"{start_date}: {round(to_plot.mean(),6)}\")\n",
    "    # # plt.plot(to_plot, label=start_date)\n",
    "    start_date = start_date + timedelta(days=1)\n",
    "\n",
    "# show legend\n",
    "# plt.legend()\n",
    "\n",
    "# 2022-01-25 00:00:00: 83303\n",
    "# 2022-01-26 00:00:00: 83362\n",
    "# 2022-01-27 00:00:00: 83191\n",
    "# 2022-01-28 00:00:00: 82775\n",
    "# 2022-01-29 00:00:00: 82226\n",
    "# 2022-01-30 00:00:00: 82088\n",
    "# 2022-01-31 00:00:00: 82278\n",
    "# 2022-02-01 00:00:00: 82314"
   ]
  },
  {
   "cell_type": "code",
   "execution_count": 19,
   "metadata": {},
   "outputs": [
    {
     "name": "stderr",
     "output_type": "stream",
     "text": [
      "/var/folders/7t/0_l8zk3s4w3bj0r9k4v9418w0000gn/T/ipykernel_28795/2825230140.py:13: SettingWithCopyWarning:\n",
      "\n",
      "\n",
      "A value is trying to be set on a copy of a slice from a DataFrame.\n",
      "Try using .loc[row_indexer,col_indexer] = value instead\n",
      "\n",
      "See the caveats in the documentation: https://pandas.pydata.org/pandas-docs/stable/user_guide/indexing.html#returning-a-view-versus-a-copy\n",
      "\n",
      "/var/folders/7t/0_l8zk3s4w3bj0r9k4v9418w0000gn/T/ipykernel_28795/2825230140.py:14: SettingWithCopyWarning:\n",
      "\n",
      "\n",
      "A value is trying to be set on a copy of a slice from a DataFrame.\n",
      "Try using .loc[row_indexer,col_indexer] = value instead\n",
      "\n",
      "See the caveats in the documentation: https://pandas.pydata.org/pandas-docs/stable/user_guide/indexing.html#returning-a-view-versus-a-copy\n",
      "\n"
     ]
    },
    {
     "data": {
      "text/html": [
       "<div>\n",
       "<style scoped>\n",
       "    .dataframe tbody tr th:only-of-type {\n",
       "        vertical-align: middle;\n",
       "    }\n",
       "\n",
       "    .dataframe tbody tr th {\n",
       "        vertical-align: top;\n",
       "    }\n",
       "\n",
       "    .dataframe thead th {\n",
       "        text-align: right;\n",
       "    }\n",
       "</style>\n",
       "<table border=\"1\" class=\"dataframe\">\n",
       "  <thead>\n",
       "    <tr style=\"text-align: right;\">\n",
       "      <th></th>\n",
       "      <th>timesteps</th>\n",
       "      <th>return</th>\n",
       "      <th>sharpe</th>\n",
       "      <th>drawdown</th>\n",
       "      <th>trades</th>\n",
       "      <th>max_inventory</th>\n",
       "      <th>mean_abs_inv</th>\n",
       "      <th>date</th>\n",
       "    </tr>\n",
       "    <tr>\n",
       "      <th>res_type</th>\n",
       "      <th></th>\n",
       "      <th></th>\n",
       "      <th></th>\n",
       "      <th></th>\n",
       "      <th></th>\n",
       "      <th></th>\n",
       "      <th></th>\n",
       "      <th></th>\n",
       "    </tr>\n",
       "  </thead>\n",
       "  <tbody>\n",
       "    <tr>\n",
       "      <th>expert</th>\n",
       "      <td>74671.909091</td>\n",
       "      <td>0.004778</td>\n",
       "      <td>0.109516</td>\n",
       "      <td>-0.011809</td>\n",
       "      <td>33660.181818</td>\n",
       "      <td>0.294209</td>\n",
       "      <td>0.108055</td>\n",
       "      <td>1838191654745553884475873597611051849711180667...</td>\n",
       "    </tr>\n",
       "    <tr>\n",
       "      <th>model</th>\n",
       "      <td>74671.909091</td>\n",
       "      <td>0.002891</td>\n",
       "      <td>0.090105</td>\n",
       "      <td>-0.012154</td>\n",
       "      <td>35897.272727</td>\n",
       "      <td>0.292359</td>\n",
       "      <td>0.097896</td>\n",
       "      <td>1838191654745553884475873597611051849711180667...</td>\n",
       "    </tr>\n",
       "  </tbody>\n",
       "</table>\n",
       "</div>"
      ],
      "text/plain": [
       "             timesteps    return    sharpe  drawdown        trades   \n",
       "res_type                                                             \n",
       "expert    74671.909091  0.004778  0.109516 -0.011809  33660.181818  \\\n",
       "model     74671.909091  0.002891  0.090105 -0.012154  35897.272727   \n",
       "\n",
       "          max_inventory  mean_abs_inv   \n",
       "res_type                                \n",
       "expert         0.294209      0.108055  \\\n",
       "model          0.292359      0.097896   \n",
       "\n",
       "                                                       date  \n",
       "res_type                                                     \n",
       "expert    1838191654745553884475873597611051849711180667...  \n",
       "model     1838191654745553884475873597611051849711180667...  "
      ]
     },
     "execution_count": 19,
     "metadata": {},
     "output_type": "execute_result"
    }
   ],
   "source": [
    "df = pd.read_csv(\"/Users/juusoahlroos/Documents/own/gradu/parsed_data/results/rolling_test.csv\", header=None)\n",
    "\n",
    "df.columns = ['timesteps', 'return','sharpe','drawdown','trades','max_inventory','mean_abs_inv', 'date','res_type']\n",
    "df = df.iloc[34:]\n",
    "\n",
    "df\n",
    "# px.bar(df, x='mean_abs_inv', y='return')\n",
    "px.line(df, x='date', y='max_inventory', color='res_type')\n",
    "\n",
    "df_expert = df[df['res_type'] == 'expert']\n",
    "df_model = df[df['res_type'] == 'model']\n",
    "\n",
    "df_expert['total'] = (1+df_expert['return']).cumprod()\n",
    "df_model['total'] = (1+df_model['return']).cumprod()\n",
    "\n",
    "df_tot = pd.merge(df_expert, df_model, on='date', suffixes=('_expert', '_model'))\n",
    "px.line(df_tot, x='date', y=['total_expert', 'total_model'])\n",
    "\n",
    "\n",
    "\n",
    "df.groupby('res_type').mean()"
   ]
  },
  {
   "cell_type": "code",
   "execution_count": 12,
   "metadata": {},
   "outputs": [
    {
     "data": {
      "text/html": [
       "<div>\n",
       "<style scoped>\n",
       "    .dataframe tbody tr th:only-of-type {\n",
       "        vertical-align: middle;\n",
       "    }\n",
       "\n",
       "    .dataframe tbody tr th {\n",
       "        vertical-align: top;\n",
       "    }\n",
       "\n",
       "    .dataframe thead th {\n",
       "        text-align: right;\n",
       "    }\n",
       "</style>\n",
       "<table border=\"1\" class=\"dataframe\">\n",
       "  <thead>\n",
       "    <tr style=\"text-align: right;\">\n",
       "      <th></th>\n",
       "      <th>0</th>\n",
       "      <th>1</th>\n",
       "      <th>2</th>\n",
       "      <th>3</th>\n",
       "      <th>4</th>\n",
       "    </tr>\n",
       "  </thead>\n",
       "  <tbody>\n",
       "    <tr>\n",
       "      <th>0</th>\n",
       "      <td>0.000000</td>\n",
       "      <td>-0.792759</td>\n",
       "      <td>-0.84798</td>\n",
       "      <td>-0.2</td>\n",
       "      <td>0.2</td>\n",
       "    </tr>\n",
       "    <tr>\n",
       "      <th>2</th>\n",
       "      <td>-0.000400</td>\n",
       "      <td>-0.792759</td>\n",
       "      <td>-0.84798</td>\n",
       "      <td>-0.2</td>\n",
       "      <td>0.2</td>\n",
       "    </tr>\n",
       "    <tr>\n",
       "      <th>4</th>\n",
       "      <td>0.000400</td>\n",
       "      <td>-0.792759</td>\n",
       "      <td>-0.84798</td>\n",
       "      <td>-0.2</td>\n",
       "      <td>0.2</td>\n",
       "    </tr>\n",
       "    <tr>\n",
       "      <th>9</th>\n",
       "      <td>-0.000833</td>\n",
       "      <td>-0.792759</td>\n",
       "      <td>-0.84798</td>\n",
       "      <td>-0.2</td>\n",
       "      <td>0.2</td>\n",
       "    </tr>\n",
       "    <tr>\n",
       "      <th>11</th>\n",
       "      <td>-0.001233</td>\n",
       "      <td>-0.792759</td>\n",
       "      <td>-0.84798</td>\n",
       "      <td>-0.2</td>\n",
       "      <td>0.2</td>\n",
       "    </tr>\n",
       "    <tr>\n",
       "      <th>...</th>\n",
       "      <td>...</td>\n",
       "      <td>...</td>\n",
       "      <td>...</td>\n",
       "      <td>...</td>\n",
       "      <td>...</td>\n",
       "    </tr>\n",
       "    <tr>\n",
       "      <th>1061975</th>\n",
       "      <td>0.334400</td>\n",
       "      <td>-0.744941</td>\n",
       "      <td>-0.79828</td>\n",
       "      <td>-0.5</td>\n",
       "      <td>-0.0</td>\n",
       "    </tr>\n",
       "    <tr>\n",
       "      <th>1062002</th>\n",
       "      <td>0.333967</td>\n",
       "      <td>-0.744941</td>\n",
       "      <td>-0.79828</td>\n",
       "      <td>-0.5</td>\n",
       "      <td>-0.0</td>\n",
       "    </tr>\n",
       "    <tr>\n",
       "      <th>1062114</th>\n",
       "      <td>0.338933</td>\n",
       "      <td>-0.744941</td>\n",
       "      <td>-0.79828</td>\n",
       "      <td>-0.5</td>\n",
       "      <td>-0.0</td>\n",
       "    </tr>\n",
       "    <tr>\n",
       "      <th>1062119</th>\n",
       "      <td>0.340167</td>\n",
       "      <td>-0.744941</td>\n",
       "      <td>-0.79828</td>\n",
       "      <td>-0.5</td>\n",
       "      <td>-0.0</td>\n",
       "    </tr>\n",
       "    <tr>\n",
       "      <th>1062122</th>\n",
       "      <td>0.340567</td>\n",
       "      <td>-0.744941</td>\n",
       "      <td>-0.79828</td>\n",
       "      <td>-0.5</td>\n",
       "      <td>-0.0</td>\n",
       "    </tr>\n",
       "  </tbody>\n",
       "</table>\n",
       "<p>35631 rows × 5 columns</p>\n",
       "</div>"
      ],
      "text/plain": [
       "                0         1        2    3    4\n",
       "0        0.000000 -0.792759 -0.84798 -0.2  0.2\n",
       "2       -0.000400 -0.792759 -0.84798 -0.2  0.2\n",
       "4        0.000400 -0.792759 -0.84798 -0.2  0.2\n",
       "9       -0.000833 -0.792759 -0.84798 -0.2  0.2\n",
       "11      -0.001233 -0.792759 -0.84798 -0.2  0.2\n",
       "...           ...       ...      ...  ...  ...\n",
       "1061975  0.334400 -0.744941 -0.79828 -0.5 -0.0\n",
       "1062002  0.333967 -0.744941 -0.79828 -0.5 -0.0\n",
       "1062114  0.338933 -0.744941 -0.79828 -0.5 -0.0\n",
       "1062119  0.340167 -0.744941 -0.79828 -0.5 -0.0\n",
       "1062122  0.340567 -0.744941 -0.79828 -0.5 -0.0\n",
       "\n",
       "[35631 rows x 5 columns]"
      ]
     },
     "execution_count": 12,
     "metadata": {},
     "output_type": "execute_result"
    }
   ],
   "source": [
    "pd.read_csv(\"/Users/juusoahlroos/Documents/own/gradu/src/data_management/clone_data.csv\").drop_duplicates()\n"
   ]
  },
  {
   "cell_type": "code",
   "execution_count": 45,
   "metadata": {},
   "outputs": [
    {
     "data": {
      "image/png": "[encoded data removed]",
      "text/plain": [
       "<Figure size 640x480 with 1 Axes>"
      ]
     },
     "metadata": {},
     "output_type": "display_data"
    }
   ],
   "source": [
    "df_dagger = pd.read_csv(\"/Users/juusoahlroos/Documents/own/gradu/parsed_data/results/compare_clone_dagger.csv\")\n",
    "df_bc = pd.read_csv(\"/Users/juusoahlroos/Documents/own/gradu/parsed_data/results/compare_clone_bc.csv\")\n",
    "\n",
    "df_manual = pd.read_csv(\"/Users/juusoahlroos/Documents/own/gradu/parsed_data/results/manual_policy_integer.csv\")\n",
    "df_manual_cont = pd.read_csv(\"/Users/juusoahlroos/Documents/own/gradu/parsed_data/results/manual_continuous.csv\")\n",
    "\n",
    "plt.plot(df_dagger[\"value\"], label=\"DAGGER\")\n",
    "plt.plot(df_bc[\"value\"], label=\"BC\")\n",
    "plt.plot(df_manual[\"value\"], label=\"Manual\")\n",
    "plt.plot(df_manual_cont[\"value\"], label=\"Manual continuous\")\n",
    "plt.legend()\n",
    "plt.show()"
   ]
  },
  {
   "cell_type": "code",
   "execution_count": 42,
   "metadata": {},
   "outputs": [
    {
     "data": {
      "image/png": "[encoded data removed]",
      "text/plain": [
       "<Figure size 640x480 with 1 Axes>"
      ]
     },
     "metadata": {},
     "output_type": "display_data"
    }
   ],
   "source": [
    "# plt.plot(df_dagger[\"value\"], label=\"DAGGER\")\n",
    "plt.plot(df_bc[\"inventory\"], label=\"BC\")\n",
    "plt.plot(df_manual[\"inventory\"], label=\"Manual\")\n",
    "plt.plot(df_manual_cont[\"inventory\"], label=\"Manual continuous\")\n",
    "plt.legend()\n",
    "plt.show()"
   ]
  },
  {
   "cell_type": "code",
   "execution_count": 10,
   "metadata": {},
   "outputs": [
    {
     "data": {
      "text/plain": [
       "[<matplotlib.lines.Line2D at 0x16307a910>]"
      ]
     },
     "execution_count": 10,
     "metadata": {},
     "output_type": "execute_result"
    },
    {
     "data": {
      "image/png": "[encoded data removed]",
      "text/plain": [
       "<Figure size 640x480 with 1 Axes>"
      ]
     },
     "metadata": {},
     "output_type": "display_data"
    }
   ],
   "source": [
    "plt.plot(df[\"value\"])\n",
    "\n"
   ]
  },
  {
   "cell_type": "code",
   "execution_count": 11,
   "metadata": {},
   "outputs": [
    {
     "data": {
      "text/plain": [
       "[<matplotlib.lines.Line2D at 0x1630ef7c0>]"
      ]
     },
     "execution_count": 11,
     "metadata": {},
     "output_type": "execute_result"
    },
    {
     "data": {
      "image/png": "[encoded data removed]",
      "text/plain": [
       "<Figure size 640x480 with 1 Axes>"
      ]
     },
     "metadata": {},
     "output_type": "display_data"
    }
   ],
   "source": [
    "plt.plot(df[\"inventory\"])\n"
   ]
  },
  {
   "cell_type": "code",
   "execution_count": null,
   "metadata": {},
   "outputs": [
    {
     "data": {
      "text/plain": [
       "array([6, 9])"
      ]
     },
     "execution_count": 18,
     "metadata": {},
     "output_type": "execute_result"
    }
   ],
   "source": [
    "# ts, x, y\n",
    "arr = np.array([[1, 2, 3], [4, 5, 6], [7, 8, 9]])\n",
    "arr.tolist()"
   ]
  },
  {
   "cell_type": "code",
   "execution_count": null,
   "metadata": {},
   "outputs": [],
   "source": []
  },
  {
   "cell_type": "code",
   "execution_count": 29,
   "metadata": {},
   "outputs": [
    {
     "data": {
      "text/plain": [
       "0"
      ]
     },
     "execution_count": 29,
     "metadata": {},
     "output_type": "execute_result"
    }
   ],
   "source": [
    "class OSIEstimator():\n",
    "    def __init__(\n",
    "        self,\n",
    "        lookback=1000 * 60 * 60 * 24,\n",
    "        update_interval=1000 * 60 * 60,\n",
    "    ):\n",
    "        lookback = lookback\n",
    "        update_interval = update_interval\n",
    "        buys = []\n",
    "        sells = []\n",
    "        previous_update = 0\n",
    "\n",
    "    def update(self, trades):\n",
    "        # trade is list of lists [[timestamp, price, amount, mid_price]]\n",
    "        for trade in trades:\n",
    "            ts, price, amount, mid_price = trade\n",
    "\n",
    "            # sides are determined by price relative to mid_price, based on what side take is on\n",
    "            if price < mid_price:\n",
    "                sells.append(np.array([ts, amount]))\n",
    "            elif price > mid_price:\n",
    "                buys.append(np.array([ts, amount]))\n",
    "\n",
    "    def calculate_values(self):\n",
    "        \"\"\"\n",
    "        Function for calculating OSI. Currently updates OSI every hour.\n",
    "        trade_bids/asks are two dimensional arrays formed like this [[timestamp, size]]\n",
    "        This function sorts the trades by size and takes the 90% quantile sized trades for OSI calculation.\n",
    "        \"\"\"\n",
    "\n",
    "        buy, sell = np.array(buys), np.array(sells)\n",
    "        buy_qty, sell_qty = buy[:, 1], sell[:, 1]\n",
    "        decile_buys = buy_qty[: (buy_qty < np.percentile(buy_qty, 90)).argmin()].sum()\n",
    "        decile_sells = sell_qty[\n",
    "            : (sell_qty < np.percentile(sell_qty, 90)).argmin()\n",
    "        ].sum()\n",
    "\n",
    "        osi = 100 * ((decile_buys - decile_sells) / (decile_buys + decile_sells))\n",
    "        osi = osi\n",
    "\n",
    "    def get_value(self, ts):\n",
    "        if ts >= previous_update + update_interval:\n",
    "            # prune trades that are too old\n",
    "            buy_arr = np.array(buys)\n",
    "            buys = buy_arr[buy_arr[:, 0] < (ts - lookback)].tolist()\n",
    "\n",
    "            sell_arr = np.array(sells)\n",
    "            sells = sell_arr[sell_arr[:, 0] < (ts - lookback)].tolist()\n",
    "\n",
    "            calculate_values()\n",
    "            previous_update = ts\n",
    "        return osi\n",
    "    \n",
    "osi = OSIEstimator()\n",
    "osi.update([[10, 10, 10, 0]])\n",
    "osi.update([[20, 20, 20, 0]])\n",
    "\n",
    "osi.update([[10, 10, 10, 40]])\n",
    "osi.update([[20, 20, 20, 40]])\n",
    "buy, sell = np.array(osi.buys), np.array(osi.sells)\n",
    "buy_qty, sell_qty = buy[:, 1], sell[:, 1]\n",
    "\n",
    "\n",
    "decile_buys = buy_qty[: (buy_qty < np.percentile(buy_qty, 90)).argmin()].sum()\n",
    "decile_sells = sell_qty[\n",
    "    : (sell_qty < np.percentile(sell_qty, 90)).argmin()\n",
    "].sum()\n",
    "\n"
   ]
  },
  {
   "cell_type": "code",
   "execution_count": 31,
   "metadata": {},
   "outputs": [],
   "source": [
    "import pandas as pd\n",
    "import logging\n",
    "import numpy as np\n",
    "from scipy.optimize import curve_fit\n",
    "import queue\n",
    "import pandas as pd\n",
    "import math\n"
   ]
  },
  {
   "cell_type": "code",
   "execution_count": 7,
   "metadata": {},
   "outputs": [
    {
     "data": {
      "text/plain": [
       "array([10, 11])"
      ]
     },
     "execution_count": 7,
     "metadata": {},
     "output_type": "execute_result"
    }
   ],
   "source": [
    "class VolatilityEstimator():\n",
    "    \"\"\"\n",
    "    lookback: how far back (in milliseconds) to look at trades, default: 1 day\n",
    "    return_aggregation: aggregation period for price returns (what is the time period between two price observations), default: 10 minutes\n",
    "    update_interval: how often to update the estimator (in milliseconds), default: 1 minute\n",
    "    \"\"\"\n",
    "\n",
    "    def __init__(\n",
    "        self,\n",
    "        lookback=(1000 * 60 * 60 * 24),\n",
    "        return_aggregation=(1000 * 60 * 10),\n",
    "        update_interval=(1000 * 60),\n",
    "    ):\n",
    "        lookback = lookback\n",
    "        update_interval = update_interval\n",
    "        return_aggregation = return_aggregation\n",
    "\n",
    "        previous_ts = 0\n",
    "\n",
    "        # prices = []\n",
    "        prices = []\n",
    "\n",
    "        volatility = 0\n",
    "        previous_update = 0\n",
    "\n",
    "    def update(self, new_price, ts):\n",
    "        if ts >= previous_ts + return_aggregation:\n",
    "            prices.append([ts, new_price])\n",
    "            previous_ts = ts\n",
    "\n",
    "    def calculate_volatility_real(self):\n",
    "        \"\"\"\n",
    "        Vol = std(returns)\n",
    "        Annualized vol = vol * sqrt(aggregation periods per year)\n",
    "            - aggregation period is in milliseconds\n",
    "        \"\"\"\n",
    "        a = np.array(price_queue.queue)\n",
    "        return_arr = np.diff(a) / a[:, 1:]\n",
    "        vol = np.std(return_arr)\n",
    "        volatility = vol * np.sqrt(\n",
    "            (1000 * 60 * 60 * 24 * 365) / return_aggregation\n",
    "        )\n",
    "\n",
    "    def calculate_values(self):\n",
    "        \"\"\"\n",
    "        Calculates price volatility instead of percentage volatility\n",
    "        \"\"\"\n",
    "        arr = np.array(prices)\n",
    "        volatility = np.sqrt(np.sum(np.square(np.diff(arr))) / arr.size)\n",
    "\n",
    "    def get_value(self, ts):\n",
    "        if ts >= previous_update + update_interval:\n",
    "            # prune old prices\n",
    "            prices = np.array(prices)\n",
    "            prices = prices[prices[:, 0] >= ts - lookback].tolist()\n",
    "            calculate_values()\n",
    "            previous_update = ts\n",
    "        return volatility\n",
    "    \n",
    "vol = VolatilityEstimator(update_interval=0, return_aggregation=0)\n",
    "vol.update(10, 100)\n",
    "vol.update(11, 200)\n",
    "np.array(vol.prices)[:,1]\n",
    "\n"
   ]
  },
  {
   "cell_type": "code",
   "execution_count": 45,
   "metadata": {},
   "outputs": [],
   "source": [
    "base = pd.read_csv(\"/home/juuso/Documents/gradu/parsed_data/aggregated/base_data.csv\")\n",
    "indicators = pd.read_csv(\"/home/juuso/Documents/gradu/parsed_data/aggregated/indicator_data.csv\")\n",
    "data = pd.merge(base, indicators, on=\"timestamp\", how='left').ffill().dropna()"
   ]
  },
  {
   "cell_type": "code",
   "execution_count": 79,
   "metadata": {},
   "outputs": [
    {
     "data": {
      "text/plain": [
       "161113"
      ]
     },
     "execution_count": 79,
     "metadata": {},
     "output_type": "execute_result"
    }
   ],
   "source": [
    "len(data.to_numpy())"
   ]
  },
  {
   "cell_type": "code",
   "execution_count": 93,
   "metadata": {},
   "outputs": [
    {
     "name": "stdout",
     "output_type": "stream",
     "text": [
      "(10,) (3,)\n",
      "[10 20 30]\n",
      "[10]\n"
     ]
    }
   ],
   "source": [
    "envs = 3\n",
    "\n",
    "current_step = np.array(range(3))\n",
    "second_step = np.array([1])\n",
    "\n",
    "\n",
    "\n",
    "current_step += 1\n",
    "current_step\n",
    "\n",
    "values = np.array(range(10)) * 10\n",
    "print(values.shape, current_step.shape)\n",
    "print(values[current_step])\n",
    "print(values[second_step])"
   ]
  },
  {
   "cell_type": "code",
   "execution_count": 108,
   "metadata": {},
   "outputs": [
    {
     "name": "stdout",
     "output_type": "stream",
     "text": [
      "(1, 3)\n"
     ]
    },
    {
     "data": {
      "text/plain": [
       "(3, 3)"
      ]
     },
     "execution_count": 108,
     "metadata": {},
     "output_type": "execute_result"
    }
   ],
   "source": [
    "a = np.array([1]).reshape(-1,1).T\n",
    "b = np.array([2]).reshape(-1,1).T\n",
    "c = np.array([3]).reshape(-1,1).T\n",
    "\n",
    "print(np.concatenate([a,b,c]).T.shape)\n",
    "\n",
    "a = np.array([1,2,3]).reshape(-1,1).T\n",
    "b = np.array([4,5,6]).reshape(-1,1).T\n",
    "c = np.array([7,8,9]).reshape(-1,1).T\n",
    "\n",
    "np.concatenate([a,b,c]).T.shape"
   ]
  },
  {
   "cell_type": "code",
   "execution_count": 130,
   "metadata": {},
   "outputs": [
    {
     "data": {
      "text/plain": [
       "array([1, 2, 3, 4])"
      ]
     },
     "execution_count": 130,
     "metadata": {},
     "output_type": "execute_result"
    }
   ],
   "source": [
    "a = np.array([[1, 2], [3, 4]]).reshape(-1,1).T\n",
    "a.reshape(4,)"
   ]
  },
  {
   "cell_type": "code",
   "execution_count": 161,
   "metadata": {},
   "outputs": [
    {
     "data": {
      "text/plain": [
       "(array([ 0. , 17.5, 35. , 52.5, 70. ]),\n",
       " array([ 30. ,  47.5,  65. ,  82.5, 100. ]))"
      ]
     },
     "execution_count": 161,
     "metadata": {},
     "output_type": "execute_result"
    }
   ],
   "source": [
    "data = 100\n",
    "envs = 5\n",
    "data_portion=0.3\n",
    "\n",
    "if data_portion * envs < 1:\n",
    "    start = np.array(range(envs)) * data_portion\n",
    "    end = start + data_portion\n",
    "    start_val = start * data\n",
    "    end_val = end * data\n",
    "    \n",
    "else:\n",
    "    offset = (1-data_portion) / (envs-1)\n",
    "    start = np.array(range(envs)) * offset\n",
    "    end = start + data_portion\n",
    "    start_val = start * data\n",
    "    end_val = end * data\n",
    "    \n",
    "    \n",
    "start_val, end_val\n"
   ]
  },
  {
   "cell_type": "code",
   "execution_count": 5,
   "metadata": {},
   "outputs": [
    {
     "data": {
      "text/plain": [
       "array([4, 5, 6])"
      ]
     },
     "execution_count": 5,
     "metadata": {},
     "output_type": "execute_result"
    }
   ],
   "source": [
    "# check if array has only one true value\n",
    "a = np.array([True, False, False])\n",
    "np"
   ]
  }
 ],
 "metadata": {
  "kernelspec": {
   "display_name": "venv",
   "language": "python",
   "name": "python3"
  },
  "language_info": {
   "codemirror_mode": {
    "name": "ipython",
    "version": 3
   },
   "file_extension": ".py",
   "mimetype": "text/x-python",
   "name": "python",
   "nbconvert_exporter": "python",
   "pygments_lexer": "ipython3",
   "version": "3.9.16"
  },
  "orig_nbformat": 4,
  "vscode": {
   "interpreter": {
    "hash": "8d3769ca92a5dfd2fce269debdca3b3007f85e1c1f688b26c3f60355833e5c7a"
   }
  }
 },
 "nbformat": 4,
 "nbformat_minor": 2
}
