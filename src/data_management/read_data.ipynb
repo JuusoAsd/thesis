{
 "cells": [
  {
   "cell_type": "code",
   "execution_count": 1,
   "metadata": {},
   "outputs": [],
   "source": [
    "import numpy as np\n",
    "import pandas as pd\n",
    "from dask import dataframe as dd\n",
    "import os\n",
    "import plotly.express as px"
   ]
  },
  {
   "cell_type": "code",
   "execution_count": 39,
   "metadata": {},
   "outputs": [],
   "source": [
    "update_file = \"/home/juuso/Documents/gradu/ADAUSDT_T_DEPTH_2021-10-30/ADAUSDT_T_DEPTH_2021-10-30_depth_update.csv\"\n",
    "snap_file = \"/home/juuso/Documents/gradu/ADAUSDT_T_DEPTH_2021-10-30/ADAUSDT_T_DEPTH_2021-10-30_depth_snap.csv\"\n",
    "res_file = \"/home/juuso/Documents/gradu/ADAUSDT_T_DEPTH_2021-10-30/parsed.csv\"\n",
    "parsed = \"/home/juuso/Documents/gradu/parsed_data/2021-12-22_parsed.csv\"\n",
    "parsed_path = \"/home/juuso/Documents/gradu/parsed_data\"\n",
    "hb_logs = \"/home/juuso/Documents/hummingbot/local_v2/hummingbot/logs/intensity_sample.csv\"\n",
    "as_logs = \"/home/juuso/Documents/gradu/logs/as_env_sample_1675594208.log\""
   ]
  },
  {
   "cell_type": "code",
   "execution_count": 43,
   "metadata": {},
   "outputs": [
    {
     "data": {
      "text/plain": [
       "market_sell    1211\n",
       "market_buy      151\n",
       "Name: action, dtype: int64"
      ]
     },
     "execution_count": 43,
     "metadata": {},
     "output_type": "execute_result"
    }
   ],
   "source": [
    "data_lines = []\n",
    "with open(as_logs, \"r\") as f:\n",
    "    while True:\n",
    "        line = f.readline()\n",
    "        if line == \"\":\n",
    "            break\n",
    "        line = line.rstrip().split(\":\")\n",
    "        data = line[2].split(\",\")\n",
    "        data_lines.append(data)\n",
    "df = pd.DataFrame(data_lines)\n",
    "update_df = df[df[0] == \"update\"]\n",
    "action_df = df[df[0] == \"action\"]\n",
    "# action_df.drop(columns=[8,9], inplace=True)\n",
    "\n",
    "\n",
    "action_df.columns = [\"type\", \"timestamp\", \"action\", \"price\", \"amount\", \"mid_price\", 'base',\"quote\"]\n",
    "action_df['value'] = action_df.base.astype(float) * action_df.mid_price.astype(float) + action_df.quote.astype(float)\n",
    "action_df.action.value_counts()\n"
   ]
  },
  {
   "cell_type": "code",
   "execution_count": 9,
   "metadata": {},
   "outputs": [
    {
     "data": {
      "text/html": [
       "<div>\n",
       "<style scoped>\n",
       "    .dataframe tbody tr th:only-of-type {\n",
       "        vertical-align: middle;\n",
       "    }\n",
       "\n",
       "    .dataframe tbody tr th {\n",
       "        vertical-align: top;\n",
       "    }\n",
       "\n",
       "    .dataframe thead th {\n",
       "        text-align: right;\n",
       "    }\n",
       "</style>\n",
       "<table border=\"1\" class=\"dataframe\">\n",
       "  <thead>\n",
       "    <tr style=\"text-align: right;\">\n",
       "      <th></th>\n",
       "      <th>type</th>\n",
       "      <th>timestamp</th>\n",
       "      <th>bid_price</th>\n",
       "      <th>ask_price</th>\n",
       "      <th>mid_price</th>\n",
       "      <th>vol</th>\n",
       "      <th>intensity</th>\n",
       "      <th>inventory</th>\n",
       "      <th>reservation_price</th>\n",
       "      <th>spread</th>\n",
       "    </tr>\n",
       "  </thead>\n",
       "  <tbody>\n",
       "    <tr>\n",
       "      <th>0</th>\n",
       "      <td>update</td>\n",
       "      <td>1640047248223.0</td>\n",
       "      <td>0</td>\n",
       "      <td>0</td>\n",
       "      <td>1.2355</td>\n",
       "      <td>0.00033139453077169975</td>\n",
       "      <td>4927.856397845143</td>\n",
       "      <td>0.0</td>\n",
       "      <td>1.2355</td>\n",
       "      <td>0.0004389913176618919</td>\n",
       "    </tr>\n",
       "    <tr>\n",
       "      <th>1</th>\n",
       "      <td>update</td>\n",
       "      <td>1640047248237.0</td>\n",
       "      <td>1.2353</td>\n",
       "      <td>1.2357</td>\n",
       "      <td>1.2355</td>\n",
       "      <td>0.00033139453077169975</td>\n",
       "      <td>4927.856397845143</td>\n",
       "      <td>0.0</td>\n",
       "      <td>1.2355</td>\n",
       "      <td>0.0004389913176618919</td>\n",
       "    </tr>\n",
       "    <tr>\n",
       "      <th>3</th>\n",
       "      <td>update</td>\n",
       "      <td>1640047258339.0</td>\n",
       "      <td>1.2353</td>\n",
       "      <td>1000000000</td>\n",
       "      <td>1.2355</td>\n",
       "      <td>0.00033139453077169975</td>\n",
       "      <td>4927.856397845143</td>\n",
       "      <td>-0.0012354997529000495</td>\n",
       "      <td>1.2355000409437862</td>\n",
       "      <td>0.0004389913176618919</td>\n",
       "    </tr>\n",
       "    <tr>\n",
       "      <th>4</th>\n",
       "      <td>update</td>\n",
       "      <td>1640047268422.0</td>\n",
       "      <td>1.2353</td>\n",
       "      <td>1.2357</td>\n",
       "      <td>1.2355</td>\n",
       "      <td>0.00033139453077169975</td>\n",
       "      <td>4927.856397845143</td>\n",
       "      <td>-0.0012354997529000495</td>\n",
       "      <td>1.2355000409437862</td>\n",
       "      <td>0.0004389913176618919</td>\n",
       "    </tr>\n",
       "    <tr>\n",
       "      <th>6</th>\n",
       "      <td>update</td>\n",
       "      <td>1640047278480.0</td>\n",
       "      <td>0</td>\n",
       "      <td>1.2357</td>\n",
       "      <td>1.2351</td>\n",
       "      <td>0.00033139453077169975</td>\n",
       "      <td>4927.856397845143</td>\n",
       "      <td>0.0</td>\n",
       "      <td>1.2351</td>\n",
       "      <td>0.0004389913176618919</td>\n",
       "    </tr>\n",
       "    <tr>\n",
       "      <th>...</th>\n",
       "      <td>...</td>\n",
       "      <td>...</td>\n",
       "      <td>...</td>\n",
       "      <td>...</td>\n",
       "      <td>...</td>\n",
       "      <td>...</td>\n",
       "      <td>...</td>\n",
       "      <td>...</td>\n",
       "      <td>...</td>\n",
       "      <td>...</td>\n",
       "    </tr>\n",
       "    <tr>\n",
       "      <th>40606</th>\n",
       "      <td>update</td>\n",
       "      <td>1640217552668.0</td>\n",
       "      <td>0</td>\n",
       "      <td>1000000000</td>\n",
       "      <td>1.3264</td>\n",
       "      <td>0.00040069132869671785</td>\n",
       "      <td>48519.45073935687</td>\n",
       "      <td>-0.02773309544054292</td>\n",
       "      <td>1.326401111241086</td>\n",
       "      <td>8.12896724367964e-05</td>\n",
       "    </tr>\n",
       "    <tr>\n",
       "      <th>40609</th>\n",
       "      <td>update</td>\n",
       "      <td>1640217562747.0</td>\n",
       "      <td>0</td>\n",
       "      <td>1000000000</td>\n",
       "      <td>1.327</td>\n",
       "      <td>0.00040069132869671785</td>\n",
       "      <td>48519.45073935687</td>\n",
       "      <td>-0.027745988645123017</td>\n",
       "      <td>1.3270011117577056</td>\n",
       "      <td>8.12896724367964e-05</td>\n",
       "    </tr>\n",
       "    <tr>\n",
       "      <th>40611</th>\n",
       "      <td>update</td>\n",
       "      <td>1640217572816.0</td>\n",
       "      <td>1.327</td>\n",
       "      <td>1000000000</td>\n",
       "      <td>1.3276</td>\n",
       "      <td>0.00040069132869671785</td>\n",
       "      <td>48519.45073935687</td>\n",
       "      <td>-0.029080751078161785</td>\n",
       "      <td>1.3276011652404789</td>\n",
       "      <td>8.12896724367964e-05</td>\n",
       "    </tr>\n",
       "    <tr>\n",
       "      <th>40614</th>\n",
       "      <td>update</td>\n",
       "      <td>1640217582912.0</td>\n",
       "      <td>0</td>\n",
       "      <td>1000000000</td>\n",
       "      <td>1.3272</td>\n",
       "      <td>0.00040069132869671785</td>\n",
       "      <td>48519.45073935687</td>\n",
       "      <td>-0.02907173445298818</td>\n",
       "      <td>1.3272011648791904</td>\n",
       "      <td>8.12896724367964e-05</td>\n",
       "    </tr>\n",
       "    <tr>\n",
       "      <th>40617</th>\n",
       "      <td>update</td>\n",
       "      <td>1640217592976.0</td>\n",
       "      <td>0</td>\n",
       "      <td>1000000000</td>\n",
       "      <td>1.3272</td>\n",
       "      <td>0.00040069132869671785</td>\n",
       "      <td>48519.45073935687</td>\n",
       "      <td>-0.02907173445298818</td>\n",
       "      <td>1.3272011648791904</td>\n",
       "      <td>8.12896724367964e-05</td>\n",
       "    </tr>\n",
       "  </tbody>\n",
       "</table>\n",
       "<p>16952 rows × 10 columns</p>\n",
       "</div>"
      ],
      "text/plain": [
       "         type        timestamp bid_price   ask_price mid_price  \\\n",
       "0      update  1640047248223.0         0           0    1.2355   \n",
       "1      update  1640047248237.0    1.2353      1.2357    1.2355   \n",
       "3      update  1640047258339.0    1.2353  1000000000    1.2355   \n",
       "4      update  1640047268422.0    1.2353      1.2357    1.2355   \n",
       "6      update  1640047278480.0         0      1.2357    1.2351   \n",
       "...       ...              ...       ...         ...       ...   \n",
       "40606  update  1640217552668.0         0  1000000000    1.3264   \n",
       "40609  update  1640217562747.0         0  1000000000     1.327   \n",
       "40611  update  1640217572816.0     1.327  1000000000    1.3276   \n",
       "40614  update  1640217582912.0         0  1000000000    1.3272   \n",
       "40617  update  1640217592976.0         0  1000000000    1.3272   \n",
       "\n",
       "                          vol          intensity               inventory  \\\n",
       "0      0.00033139453077169975  4927.856397845143                     0.0   \n",
       "1      0.00033139453077169975  4927.856397845143                     0.0   \n",
       "3      0.00033139453077169975  4927.856397845143  -0.0012354997529000495   \n",
       "4      0.00033139453077169975  4927.856397845143  -0.0012354997529000495   \n",
       "6      0.00033139453077169975  4927.856397845143                     0.0   \n",
       "...                       ...                ...                     ...   \n",
       "40606  0.00040069132869671785  48519.45073935687    -0.02773309544054292   \n",
       "40609  0.00040069132869671785  48519.45073935687   -0.027745988645123017   \n",
       "40611  0.00040069132869671785  48519.45073935687   -0.029080751078161785   \n",
       "40614  0.00040069132869671785  48519.45073935687    -0.02907173445298818   \n",
       "40617  0.00040069132869671785  48519.45073935687    -0.02907173445298818   \n",
       "\n",
       "        reservation_price                 spread  \n",
       "0                  1.2355  0.0004389913176618919  \n",
       "1                  1.2355  0.0004389913176618919  \n",
       "3      1.2355000409437862  0.0004389913176618919  \n",
       "4      1.2355000409437862  0.0004389913176618919  \n",
       "6                  1.2351  0.0004389913176618919  \n",
       "...                   ...                    ...  \n",
       "40606   1.326401111241086   8.12896724367964e-05  \n",
       "40609  1.3270011117577056   8.12896724367964e-05  \n",
       "40611  1.3276011652404789   8.12896724367964e-05  \n",
       "40614  1.3272011648791904   8.12896724367964e-05  \n",
       "40617  1.3272011648791904   8.12896724367964e-05  \n",
       "\n",
       "[16952 rows x 10 columns]"
      ]
     },
     "execution_count": 9,
     "metadata": {},
     "output_type": "execute_result"
    }
   ],
   "source": [
    "\n",
    "update_df.columns = [\"type\", \"timestamp\", \"bid_price\",\"ask_price\",\"mid_price\", \"vol\", \"intensity\", \"inventory\", \"reservation_price\", \"spread\"]\n",
    "update_df\n"
   ]
  },
  {
   "cell_type": "code",
   "execution_count": null,
   "metadata": {},
   "outputs": [],
   "source": [
    "px.line(update_df[::100], x=\"timestamp\", y=[\"bid_price\", \"ask_price\", \"mid_price\"])"
   ]
  },
  {
   "cell_type": "code",
   "execution_count": null,
   "metadata": {},
   "outputs": [],
   "source": [
    "px.line(update_df[:100], x=\"timestamp\", y=[\"mid_price\", \"reservation_price\"])"
   ]
  },
  {
   "cell_type": "code",
   "execution_count": 26,
   "metadata": {},
   "outputs": [
    {
     "name": "stdout",
     "output_type": "stream",
     "text": [
      "Break even fees: 0.0001423536675286002\n"
     ]
    },
    {
     "name": "stderr",
     "output_type": "stream",
     "text": [
      "/tmp/ipykernel_18120/2354574168.py:2: SettingWithCopyWarning:\n",
      "\n",
      "\n",
      "A value is trying to be set on a copy of a slice from a DataFrame.\n",
      "Try using .loc[row_indexer,col_indexer] = value instead\n",
      "\n",
      "See the caveats in the documentation: https://pandas.pydata.org/pandas-docs/stable/user_guide/indexing.html#returning-a-view-versus-a-copy\n",
      "\n"
     ]
    },
    {
     "data": {
      "text/plain": [
       "1004.3559000000052"
      ]
     },
     "execution_count": 26,
     "metadata": {},
     "output_type": "execute_result"
    }
   ],
   "source": [
    "\n",
    "# action_df.columns = [\"type\", \"timestamp\", \"action\", \"price\", \"amount\", \"mid_price\", 'base',\"quote\"]\n",
    "action_df['value'] = action_df.base.astype(float) * action_df.mid_price.astype(float) + action_df.quote.astype(float)\n",
    "\n",
    "px.line(action_df[::100], x=\"timestamp\", y=[\"value\"])\n",
    "volume = (action_df.amount.astype(float) * action_df.price.astype(float)).sum()\n",
    "end_total = (action_df.quote.astype(float) + action_df.base.astype(float) * action_df.mid_price.astype(float)).values[-1]\n",
    "start_total = (action_df.quote.astype(float) + action_df.base.astype(float) * action_df.mid_price.astype(float)).values[0]\n",
    "\n",
    "profit = end_total - start_total\n",
    "break_even_fees = profit / volume\n",
    "print(f\"Break even fees: {break_even_fees}\")\n",
    "end_total"
   ]
  },
  {
   "cell_type": "code",
   "execution_count": null,
   "metadata": {},
   "outputs": [],
   "source": [
    "px.line(action_df[::100], x=\"timestamp\", y=[\"base\"])"
   ]
  },
  {
   "cell_type": "code",
   "execution_count": null,
   "metadata": {},
   "outputs": [],
   "source": [
    "for chunk in pd.read_csv(update_file, chunksize=1_000_000):\n",
    "    ts_chunk = chunk[chunk.timestamp == 1635552439148]\n",
    "    if ts_chunk.empty:\n",
    "        continue\n",
    "    else:\n",
    "        print('found')\n",
    "        break\n",
    "\n",
    "ts_chunk"
   ]
  },
  {
   "cell_type": "code",
   "execution_count": null,
   "metadata": {},
   "outputs": [],
   "source": [
    "df = pd.read_csv(\"/home/juuso/Documents/gradu/parsed_data/AvellanedaStoikov/data.csv\", nrows=1_000_000)\n",
    "df = df.rename(columns={'size':\"trade_size\"})\n",
    "df = df[df.trade_size != 0]"
   ]
  },
  {
   "cell_type": "code",
   "execution_count": null,
   "metadata": {},
   "outputs": [],
   "source": [
    "df['price_diff'] = np.abs(df.price - df.mid_price)\n",
    "# choose every 10th row\n",
    "part = df.iloc[::10]\n",
    "\n",
    "px.scatter(part, x='price_diff', y='trade_size', trendline='ols')\n",
    "# df"
   ]
  },
  {
   "cell_type": "code",
   "execution_count": null,
   "metadata": {},
   "outputs": [],
   "source": [
    "grouped = df.groupby('price_diff').sum().reset_index()\n",
    "\n",
    "px.scatter(grouped, x='price_diff', y='trade_size', trendline='ols')"
   ]
  },
  {
   "cell_type": "code",
   "execution_count": 45,
   "metadata": {},
   "outputs": [
    {
     "ename": "TypeError",
     "evalue": "abc() got an unexpected keyword argument 'd'",
     "output_type": "error",
     "traceback": [
      "\u001b[0;31m---------------------------------------------------------------------------\u001b[0m",
      "\u001b[0;31mTypeError\u001b[0m                                 Traceback (most recent call last)",
      "Cell \u001b[0;32mIn [45], line 5\u001b[0m\n\u001b[1;32m      2\u001b[0m     \u001b[39mreturn\u001b[39;00m a \u001b[39m+\u001b[39m b \u001b[39m+\u001b[39m c\n\u001b[1;32m      4\u001b[0m dic \u001b[39m=\u001b[39m {\u001b[39m'\u001b[39m\u001b[39ma\u001b[39m\u001b[39m'\u001b[39m:\u001b[39m1\u001b[39m, \u001b[39m'\u001b[39m\u001b[39mb\u001b[39m\u001b[39m'\u001b[39m:\u001b[39m2\u001b[39m, \u001b[39m'\u001b[39m\u001b[39mc\u001b[39m\u001b[39m'\u001b[39m:\u001b[39m3\u001b[39m, \u001b[39m'\u001b[39m\u001b[39md\u001b[39m\u001b[39m'\u001b[39m:\u001b[39m4\u001b[39m}\n\u001b[0;32m----> 5\u001b[0m abc(\u001b[39m*\u001b[39;49m\u001b[39m*\u001b[39;49mdic)\n",
      "\u001b[0;31mTypeError\u001b[0m: abc() got an unexpected keyword argument 'd'"
     ]
    }
   ],
   "source": [
    "def abc(a, b, c, **kwargs):\n",
    "    return a + b + c\n",
    "\n",
    "dic = {'a':1, 'b':2, 'c':3, 'd':4}\n",
    "abc(**dic)"
   ]
  }
 ],
 "metadata": {
  "kernelspec": {
   "display_name": "Python 3.9.5 ('venv': venv)",
   "language": "python",
   "name": "python3"
  },
  "language_info": {
   "codemirror_mode": {
    "name": "ipython",
    "version": 3
   },
   "file_extension": ".py",
   "mimetype": "text/x-python",
   "name": "python",
   "nbconvert_exporter": "python",
   "pygments_lexer": "ipython3",
   "version": "3.10.6"
  },
  "orig_nbformat": 4,
  "vscode": {
   "interpreter": {
    "hash": "8d3769ca92a5dfd2fce269debdca3b3007f85e1c1f688b26c3f60355833e5c7a"
   }
  }
 },
 "nbformat": 4,
 "nbformat_minor": 2
}
