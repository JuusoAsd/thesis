{
 "cells": [
  {
   "cell_type": "code",
   "execution_count": null,
   "metadata": {},
   "outputs": [],
   "source": [
    "import numpy as np\n",
    "import pandas as pd\n",
    "from dask import dataframe as dd\n",
    "import os\n",
    "import plotly.express as px"
   ]
  },
  {
   "cell_type": "code",
   "execution_count": null,
   "metadata": {},
   "outputs": [],
   "source": [
    "update_file = \"/home/juuso/Documents/gradu/ADAUSDT_T_DEPTH_2021-10-30/ADAUSDT_T_DEPTH_2021-10-30_depth_update.csv\"\n",
    "snap_file = \"/home/juuso/Documents/gradu/ADAUSDT_T_DEPTH_2021-10-30/ADAUSDT_T_DEPTH_2021-10-30_depth_snap.csv\"\n",
    "res_file = \"/home/juuso/Documents/gradu/ADAUSDT_T_DEPTH_2021-10-30/parsed.csv\"\n",
    "parsed = \"/home/juuso/Documents/gradu/parsed_data/2021-12-22_parsed.csv\"\n",
    "parsed_path = \"/home/juuso/Documents/gradu/parsed_data\"\n",
    "hb_logs = \"/home/juuso/Documents/hummingbot/local_v2/hummingbot/logs/intensity_sample.csv\"\n",
    "as_logs = \"/home/juuso/Documents/gradu/logs/as_env_sample_1673332000.log\""
   ]
  },
  {
   "cell_type": "code",
   "execution_count": null,
   "metadata": {},
   "outputs": [],
   "source": [
    "data_lines = []\n",
    "with open(as_logs, \"r\") as f:\n",
    "    while True:\n",
    "        line = f.readline()\n",
    "        if line == \"\":\n",
    "            break\n",
    "        line = line.rstrip().split(\":\")\n",
    "        data = line[2].split(\",\")\n",
    "        data_lines.append(data)\n",
    "df = pd.DataFrame(data_lines)\n",
    "update_df = df[df[0] == \"update\"]\n",
    "action_df = df[df[0] == \"action\"]\n",
    "action_df.drop(columns=[8,9], inplace=True)"
   ]
  },
  {
   "cell_type": "code",
   "execution_count": null,
   "metadata": {},
   "outputs": [],
   "source": [
    "\n",
    "update_df.columns = [\"type\", \"timestamp\", \"bid_price\",\"ask_price\",\"mid_price\", \"vol\", \"intensity\", \"inventory\", \"reservation_price\", \"spread\"]\n",
    "update_df\n"
   ]
  },
  {
   "cell_type": "code",
   "execution_count": null,
   "metadata": {},
   "outputs": [],
   "source": [
    "px.line(update_df[::100], x=\"timestamp\", y=[\"bid_price\", \"ask_price\", \"mid_price\"])"
   ]
  },
  {
   "cell_type": "code",
   "execution_count": null,
   "metadata": {},
   "outputs": [],
   "source": [
    "px.line(update_df[:100], x=\"timestamp\", y=[\"mid_price\", \"reservation_price\"])"
   ]
  },
  {
   "cell_type": "code",
   "execution_count": null,
   "metadata": {},
   "outputs": [],
   "source": [
    "\n",
    "action_df.columns = [\"type\", \"timestamp\", \"action\", \"price\", \"amount\", \"mid_price\", 'base',\"quote\"]\n",
    "action_df\n",
    "volume = (action_df.amount.astype(float) * action_df.price.astype(float)).sum()\n",
    "end_total = (action_df.quote.astype(float) + action_df.base.astype(float) * action_df.mid_price.astype(float)).values[-1]\n",
    "start_total = (action_df.quote.astype(float) + action_df.base.astype(float) * action_df.mid_price.astype(float)).values[0]\n",
    "\n",
    "profit = end_total - start_total\n",
    "break_even_fees = profit / volume\n",
    "print(f\"Break even fees: {break_even_fees}\")"
   ]
  },
  {
   "cell_type": "code",
   "execution_count": null,
   "metadata": {},
   "outputs": [],
   "source": [
    "px.line(action_df[::100], x=\"timestamp\", y=[\"base\"])"
   ]
  },
  {
   "cell_type": "code",
   "execution_count": null,
   "metadata": {},
   "outputs": [],
   "source": [
    "for chunk in pd.read_csv(update_file, chunksize=1_000_000):\n",
    "    ts_chunk = chunk[chunk.timestamp == 1635552439148]\n",
    "    if ts_chunk.empty:\n",
    "        continue\n",
    "    else:\n",
    "        print('found')\n",
    "        break\n",
    "\n",
    "ts_chunk"
   ]
  },
  {
   "cell_type": "code",
   "execution_count": null,
   "metadata": {},
   "outputs": [],
   "source": [
    "df = pd.read_csv(\"/home/juuso/Documents/gradu/parsed_data/AvellanedaStoikov/data.csv\", nrows=1_000_000)\n",
    "df = df.rename(columns={'size':\"trade_size\"})\n",
    "df = df[df.trade_size != 0]"
   ]
  },
  {
   "cell_type": "code",
   "execution_count": null,
   "metadata": {},
   "outputs": [],
   "source": [
    "df['price_diff'] = np.abs(df.price - df.mid_price)\n",
    "# choose every 10th row\n",
    "part = df.iloc[::10]\n",
    "\n",
    "px.scatter(part, x='price_diff', y='trade_size', trendline='ols')\n",
    "# df"
   ]
  },
  {
   "cell_type": "code",
   "execution_count": null,
   "metadata": {},
   "outputs": [],
   "source": [
    "grouped = df.groupby('price_diff').sum().reset_index()\n",
    "\n",
    "px.scatter(grouped, x='price_diff', y='trade_size', trendline='ols')"
   ]
  }
 ],
 "metadata": {
  "kernelspec": {
   "display_name": "venv",
   "language": "python",
   "name": "python3"
  },
  "language_info": {
   "codemirror_mode": {
    "name": "ipython",
    "version": 3
   },
   "file_extension": ".py",
   "mimetype": "text/x-python",
   "name": "python",
   "nbconvert_exporter": "python",
   "pygments_lexer": "ipython3",
   "version": "3.10.1 (tags/v3.10.1:2cd268a, Dec  6 2021, 19:10:37) [MSC v.1929 64 bit (AMD64)]"
  },
  "orig_nbformat": 4,
  "vscode": {
   "interpreter": {
    "hash": "4290beab0d5c5e8924688721d68e2d8a94388b4accb15d1b33749b44e6291cbe"
   }
  }
 },
 "nbformat": 4,
 "nbformat_minor": 2
}
